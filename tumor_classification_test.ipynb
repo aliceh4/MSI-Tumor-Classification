{
 "cells": [
  {
   "cell_type": "code",
   "execution_count": 4,
   "metadata": {},
   "outputs": [],
   "source": [
    "#load the ADSQ task dataset\n",
    "from scipy.io import loadmat\n",
    "\n",
    "data = loadmat('data/ADSQ_data.mat')['data']\n",
    "mzs = loadmat('data/ADSQ_mzs.mat')['mzs']\n",
    "label = loadmat('data/ADSQ_label.mat')['label']\n",
    "classes = loadmat('data/ADSQ_class.mat')['class'][0]"
   ]
  },
  {
   "cell_type": "code",
   "execution_count": 5,
   "metadata": {},
   "outputs": [],
   "source": [
    "#construct a Pandas Dataframe using the above loaded data\n",
    "import pandas as pd\n",
    "import numpy as np\n",
    "\n",
    "ADSQ_df = pd.DataFrame(data)\n",
    "ADSQ_df.columns = np.round(mzs[0,:],2)\n",
    "#Total ion current normalization (or L1 normalization)\n",
    "tic = ADSQ_df.sum(1).values\n",
    "ADSQ_df = np.divide(ADSQ_df,tic.reshape(tic.shape[0],1))\n",
    "#delete the raw data to save some memory\n",
    "del data"
   ]
  },
  {
   "cell_type": "code",
   "execution_count": 7,
   "metadata": {},
   "outputs": [
    {
     "data": {
      "text/html": [
       "<div>\n",
       "<style scoped>\n",
       "    .dataframe tbody tr th:only-of-type {\n",
       "        vertical-align: middle;\n",
       "    }\n",
       "\n",
       "    .dataframe tbody tr th {\n",
       "        vertical-align: top;\n",
       "    }\n",
       "\n",
       "    .dataframe thead th {\n",
       "        text-align: right;\n",
       "    }\n",
       "</style>\n",
       "<table border=\"1\" class=\"dataframe\">\n",
       "  <thead>\n",
       "    <tr style=\"text-align: right;\">\n",
       "      <th></th>\n",
       "      <th>type</th>\n",
       "      <th>519.08</th>\n",
       "      <th>519.16</th>\n",
       "      <th>519.25</th>\n",
       "      <th>519.33</th>\n",
       "      <th>519.41</th>\n",
       "      <th>519.5</th>\n",
       "      <th>519.58</th>\n",
       "      <th>519.66</th>\n",
       "      <th>519.74</th>\n",
       "      <th>...</th>\n",
       "      <th>4958.85</th>\n",
       "      <th>4959.1</th>\n",
       "      <th>4959.34</th>\n",
       "      <th>4959.58</th>\n",
       "      <th>4959.82</th>\n",
       "      <th>4960.07</th>\n",
       "      <th>4960.31</th>\n",
       "      <th>4960.55</th>\n",
       "      <th>4960.8</th>\n",
       "      <th>4961.04</th>\n",
       "    </tr>\n",
       "  </thead>\n",
       "  <tbody>\n",
       "    <tr>\n",
       "      <td>0</td>\n",
       "      <td>AD</td>\n",
       "      <td>0.000057</td>\n",
       "      <td>0.000061</td>\n",
       "      <td>0.000022</td>\n",
       "      <td>0.000016</td>\n",
       "      <td>0.000020</td>\n",
       "      <td>0.000006</td>\n",
       "      <td>0.000007</td>\n",
       "      <td>0.000000</td>\n",
       "      <td>0.000056</td>\n",
       "      <td>...</td>\n",
       "      <td>0.000016</td>\n",
       "      <td>0.000009</td>\n",
       "      <td>0.000004</td>\n",
       "      <td>0.000005</td>\n",
       "      <td>0.000005</td>\n",
       "      <td>0.000011</td>\n",
       "      <td>0.000020</td>\n",
       "      <td>2.617661e-05</td>\n",
       "      <td>0.000027</td>\n",
       "      <td>0.000013</td>\n",
       "    </tr>\n",
       "    <tr>\n",
       "      <td>1</td>\n",
       "      <td>AD</td>\n",
       "      <td>0.000079</td>\n",
       "      <td>0.000073</td>\n",
       "      <td>0.000047</td>\n",
       "      <td>0.000019</td>\n",
       "      <td>0.000011</td>\n",
       "      <td>0.000024</td>\n",
       "      <td>0.000020</td>\n",
       "      <td>0.000024</td>\n",
       "      <td>0.000021</td>\n",
       "      <td>...</td>\n",
       "      <td>0.000019</td>\n",
       "      <td>0.000003</td>\n",
       "      <td>0.000016</td>\n",
       "      <td>0.000007</td>\n",
       "      <td>0.000019</td>\n",
       "      <td>0.000031</td>\n",
       "      <td>0.000006</td>\n",
       "      <td>1.539961e-05</td>\n",
       "      <td>0.000003</td>\n",
       "      <td>0.000007</td>\n",
       "    </tr>\n",
       "    <tr>\n",
       "      <td>2</td>\n",
       "      <td>SQ</td>\n",
       "      <td>0.000084</td>\n",
       "      <td>0.000084</td>\n",
       "      <td>0.000047</td>\n",
       "      <td>0.000029</td>\n",
       "      <td>0.000042</td>\n",
       "      <td>0.000025</td>\n",
       "      <td>0.000045</td>\n",
       "      <td>0.000000</td>\n",
       "      <td>0.000000</td>\n",
       "      <td>...</td>\n",
       "      <td>0.000018</td>\n",
       "      <td>0.000026</td>\n",
       "      <td>0.000011</td>\n",
       "      <td>0.000022</td>\n",
       "      <td>0.000022</td>\n",
       "      <td>0.000005</td>\n",
       "      <td>0.000003</td>\n",
       "      <td>7.241437e-06</td>\n",
       "      <td>0.000022</td>\n",
       "      <td>0.000009</td>\n",
       "    </tr>\n",
       "    <tr>\n",
       "      <td>3</td>\n",
       "      <td>AD</td>\n",
       "      <td>0.000033</td>\n",
       "      <td>0.000108</td>\n",
       "      <td>0.000282</td>\n",
       "      <td>0.000117</td>\n",
       "      <td>0.000124</td>\n",
       "      <td>0.000061</td>\n",
       "      <td>0.000025</td>\n",
       "      <td>0.000013</td>\n",
       "      <td>0.000000</td>\n",
       "      <td>...</td>\n",
       "      <td>0.000035</td>\n",
       "      <td>0.000025</td>\n",
       "      <td>0.000011</td>\n",
       "      <td>0.000014</td>\n",
       "      <td>0.000016</td>\n",
       "      <td>0.000019</td>\n",
       "      <td>0.000010</td>\n",
       "      <td>7.514679e-07</td>\n",
       "      <td>0.000018</td>\n",
       "      <td>0.000032</td>\n",
       "    </tr>\n",
       "    <tr>\n",
       "      <td>4</td>\n",
       "      <td>SQ</td>\n",
       "      <td>0.000218</td>\n",
       "      <td>0.000126</td>\n",
       "      <td>0.000035</td>\n",
       "      <td>0.000076</td>\n",
       "      <td>0.000018</td>\n",
       "      <td>0.000021</td>\n",
       "      <td>0.000012</td>\n",
       "      <td>0.000017</td>\n",
       "      <td>0.000000</td>\n",
       "      <td>...</td>\n",
       "      <td>0.000005</td>\n",
       "      <td>0.000004</td>\n",
       "      <td>0.000022</td>\n",
       "      <td>0.000021</td>\n",
       "      <td>0.000012</td>\n",
       "      <td>0.000002</td>\n",
       "      <td>0.000008</td>\n",
       "      <td>1.318835e-05</td>\n",
       "      <td>0.000017</td>\n",
       "      <td>0.000014</td>\n",
       "    </tr>\n",
       "  </tbody>\n",
       "</table>\n",
       "<p>5 rows × 27287 columns</p>\n",
       "</div>"
      ],
      "text/plain": [
       "  type    519.08    519.16    519.25    519.33    519.41     519.5    519.58  \\\n",
       "0   AD  0.000057  0.000061  0.000022  0.000016  0.000020  0.000006  0.000007   \n",
       "1   AD  0.000079  0.000073  0.000047  0.000019  0.000011  0.000024  0.000020   \n",
       "2   SQ  0.000084  0.000084  0.000047  0.000029  0.000042  0.000025  0.000045   \n",
       "3   AD  0.000033  0.000108  0.000282  0.000117  0.000124  0.000061  0.000025   \n",
       "4   SQ  0.000218  0.000126  0.000035  0.000076  0.000018  0.000021  0.000012   \n",
       "\n",
       "     519.66    519.74  ...   4958.85    4959.1   4959.34   4959.58   4959.82  \\\n",
       "0  0.000000  0.000056  ...  0.000016  0.000009  0.000004  0.000005  0.000005   \n",
       "1  0.000024  0.000021  ...  0.000019  0.000003  0.000016  0.000007  0.000019   \n",
       "2  0.000000  0.000000  ...  0.000018  0.000026  0.000011  0.000022  0.000022   \n",
       "3  0.000013  0.000000  ...  0.000035  0.000025  0.000011  0.000014  0.000016   \n",
       "4  0.000017  0.000000  ...  0.000005  0.000004  0.000022  0.000021  0.000012   \n",
       "\n",
       "    4960.07   4960.31       4960.55    4960.8   4961.04  \n",
       "0  0.000011  0.000020  2.617661e-05  0.000027  0.000013  \n",
       "1  0.000031  0.000006  1.539961e-05  0.000003  0.000007  \n",
       "2  0.000005  0.000003  7.241437e-06  0.000022  0.000009  \n",
       "3  0.000019  0.000010  7.514679e-07  0.000018  0.000032  \n",
       "4  0.000002  0.000008  1.318835e-05  0.000017  0.000014  \n",
       "\n",
       "[5 rows x 27287 columns]"
      ]
     },
     "execution_count": 7,
     "metadata": {},
     "output_type": "execute_result"
    }
   ],
   "source": [
    "#shuffle the entire dataset to mix the samples\n",
    "from sklearn.utils import shuffle\n",
    "ADSQ_df.insert(0,'type',label)\n",
    "ADSQ_df['type'] = ADSQ_df['type'].map({1:'AD',2:'SQ'})\n",
    "ADSQ_df = ADSQ_df.sample(frac=1,random_state=9).reset_index(drop=True)\n",
    "ADSQ_df.head()"
   ]
  },
  {
   "cell_type": "code",
   "execution_count": 7,
   "metadata": {},
   "outputs": [],
   "source": [
    "ADSQ_df = pd.read_pickle('data/ADSQ_df.pkl')"
   ]
  },
  {
   "cell_type": "code",
   "execution_count": 6,
   "metadata": {},
   "outputs": [
    {
     "data": {
      "text/plain": [
       "<matplotlib.legend.Legend at 0x2395b36d898>"
      ]
     },
     "execution_count": 6,
     "metadata": {},
     "output_type": "execute_result"
    },
    {
     "data": {
      "image/png": "[encoded data removed]",
      "text/plain": [
       "<Figure size 432x288 with 1 Axes>"
      ]
     },
     "metadata": {
      "needs_background": "light"
     },
     "output_type": "display_data"
    }
   ],
   "source": [
    "#visualize average spectrum\n",
    "import matplotlib.pyplot as plt\n",
    "\n",
    "plt.plot(mzs[0],ADSQ_df[ADSQ_df['type']=='AD'].mean(0),label='AD')\n",
    "plt.plot(mzs[0],ADSQ_df[ADSQ_df['type']=='SQ'].mean(0),label='SQ')\n",
    "plt.legend()"
   ]
  },
  {
   "cell_type": "code",
   "execution_count": 8,
   "metadata": {},
   "outputs": [],
   "source": [
    "#split the dataset into training and test set\n",
    "\n",
    "from sklearn.model_selection import train_test_split\n",
    "from sklearn.metrics import classification_report, confusion_matrix \n",
    "\n",
    "X_train, X_test, y_train, y_test = train_test_split(ADSQ_df.drop('type',1).values, \n",
    "                                                    ADSQ_df['type'], test_size=0.3,\n",
    "                                                    random_state=19)"
   ]
  },
  {
   "cell_type": "code",
   "execution_count": null,
   "metadata": {},
   "outputs": [],
   "source": [
    "from sklearn.discriminant_analysis import LinearDiscriminantAnalysis\n",
    "\n",
    "y_train_ = y_train.map({'AD':0,'SQ':1})\n",
    "y_test_ = y_test.map({'AD':0,'SQ':1})\n",
    "\n",
    "lda = LinearDiscriminantAnalysis(solver='svd',n_components=1)\n",
    "lda.fit(X_train,y_train)\n",
    "y_pred_lda = lda.predict(X_test)\n",
    "report_dict_lda = classification_report(y_test, y_pred_lda, output_dict=True)\n",
    "#conf_mtx_lda = confusion_matrix(y_test, y_pred_lda)"
   ]
  },
  {
   "cell_type": "code",
   "execution_count": null,
   "metadata": {},
   "outputs": [],
   "source": [
    "from sklearn.model_selection import cross_val_score\n",
    "\n",
    "scores = cross_val_score(lda,X=ADSQ_df.drop('type',1).values,y=ADSQ_df['type'],cv=5,n_jobs=8)\n",
    "print(scores)"
   ]
  },
  {
   "cell_type": "code",
   "execution_count": 97,
   "metadata": {},
   "outputs": [
    {
     "name": "stderr",
     "output_type": "stream",
     "text": [
      "C:\\Users\\Richard\\Anaconda3\\lib\\site-packages\\sklearn\\metrics\\classification.py:1437: UndefinedMetricWarning: Precision and F-score are ill-defined and being set to 0.0 in labels with no predicted samples.\n",
      "  'precision', 'predicted', average, warn_for)\n"
     ]
    }
   ],
   "source": [
    "#Gradient boosting tree\n",
    "import xgboost\n",
    "xgb = xgboost.XGBClassifier(learning_rate=0.1, n_estimators=600, objective='binary:logistic',subsample=1,\n",
    "                            reg_alpha=0,min_child_weight=5,max_depth=4,gamma=0,colsample_bytree=1,nthread = 8)\n",
    "xgb.fit(X_train,y_train)\n",
    "\n",
    "y_pred_xgb = xgb.predict(X_test)\n",
    "prob_xgb = xgb.predict_proba(X_test)\n",
    "report_dict_xgb = classification_report(y_test, y_pred_xgb, output_dict=True)"
   ]
  },
  {
   "cell_type": "code",
   "execution_count": 9,
   "metadata": {},
   "outputs": [
    {
     "ename": "NameError",
     "evalue": "name 'report_dict_xgb' is not defined",
     "output_type": "error",
     "traceback": [
      "\u001b[1;31m---------------------------------------------------------------------------\u001b[0m",
      "\u001b[1;31mNameError\u001b[0m                                 Traceback (most recent call last)",
      "\u001b[1;32m<ipython-input-9-3996c06a5f6e>\u001b[0m in \u001b[0;36m<module>\u001b[1;34m\u001b[0m\n\u001b[1;32m----> 1\u001b[1;33m \u001b[0mreport_dict_xgb\u001b[0m\u001b[1;33m\u001b[0m\u001b[1;33m\u001b[0m\u001b[0m\n\u001b[0m",
      "\u001b[1;31mNameError\u001b[0m: name 'report_dict_xgb' is not defined"
     ]
    }
   ],
   "source": [
    "report_dict_xgb"
   ]
  },
  {
   "cell_type": "code",
   "execution_count": null,
   "metadata": {},
   "outputs": [],
   "source": []
  }
 ],
 "metadata": {
  "kernelspec": {
   "display_name": "Python 3",
   "language": "python",
   "name": "python3"
  },
  "language_info": {
   "codemirror_mode": {
    "name": "ipython",
    "version": 3
   },
   "file_extension": ".py",
   "mimetype": "text/x-python",
   "name": "python",
   "nbconvert_exporter": "python",
   "pygments_lexer": "ipython3",
   "version": "3.7.4"
  }
 },
 "nbformat": 4,
 "nbformat_minor": 2
}

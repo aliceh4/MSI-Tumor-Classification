{
 "cells": [
  {
   "cell_type": "markdown",
   "metadata": {
    "toc": true
   },
   "source": [
    "<h1>Table of Contents<span class=\"tocSkip\"></span></h1>\n",
    "<div class=\"toc\"><ul class=\"toc-item\"><li><span><a href=\"#Workflow-for-tumor-subtypes-classification-using-machine-learning\" data-toc-modified-id=\"Workflow-for-tumor-subtypes-classification-using-machine-learning-1\"><span class=\"toc-item-num\">1&nbsp;&nbsp;</span>Workflow for tumor subtypes classification using machine learning</a></span></li><li><span><a href=\"#Loading-the-dataset\" data-toc-modified-id=\"Loading-the-dataset-2\"><span class=\"toc-item-num\">2&nbsp;&nbsp;</span>Loading the dataset</a></span></li><li><span><a href=\"#Visualize-spectrum\" data-toc-modified-id=\"Visualize-spectrum-3\"><span class=\"toc-item-num\">3&nbsp;&nbsp;</span>Visualize spectrum</a></span></li><li><span><a href=\"#Split-the-dataset-into-training-and-test-set\" data-toc-modified-id=\"Split-the-dataset-into-training-and-test-set-4\"><span class=\"toc-item-num\">4&nbsp;&nbsp;</span>Split the dataset into training and test set</a></span></li><li><span><a href=\"#Linear-Discriminant-Analysis-(LDA)\" data-toc-modified-id=\"Linear-Discriminant-Analysis-(LDA)-5\"><span class=\"toc-item-num\">5&nbsp;&nbsp;</span>Linear Discriminant Analysis (LDA)</a></span></li><li><span><a href=\"#Support-Vector-Machine-(SVM)\" data-toc-modified-id=\"Support-Vector-Machine-(SVM)-6\"><span class=\"toc-item-num\">6&nbsp;&nbsp;</span>Support Vector Machine (SVM)</a></span></li><li><span><a href=\"#Gradient-boosting-tree\" data-toc-modified-id=\"Gradient-boosting-tree-7\"><span class=\"toc-item-num\">7&nbsp;&nbsp;</span>Gradient boosting tree</a></span></li><li><span><a href=\"#Convolutional-neural-network\" data-toc-modified-id=\"Convolutional-neural-network-8\"><span class=\"toc-item-num\">8&nbsp;&nbsp;</span>Convolutional neural network</a></span></li><li><span><a href=\"#Model-evaluation\" data-toc-modified-id=\"Model-evaluation-9\"><span class=\"toc-item-num\">9&nbsp;&nbsp;</span>Model evaluation</a></span></li><li><span><a href=\"#Model-interpretations\" data-toc-modified-id=\"Model-interpretations-10\"><span class=\"toc-item-num\">10&nbsp;&nbsp;</span>Model interpretations</a></span></li></ul></div>"
   ]
  },
  {
   "cell_type": "markdown",
   "metadata": {},
   "source": [
    "## Workflow for tumor subtypes classification using machine learning\n",
    "<br>\n",
    "<font size=\"3\"> <font>\n",
    "\n",
    "This notebook will walk you through how to build and evaluate various machine learning models for classification tasks. For the demonstration, we will use the annotated imaging mass spectrometry (IMS) dataset from a cancer tissue microarray (TMA) for tumor subtyping of __adenocarcinoma__ (AD) versus __squamous cell carcinoma__ (SQ)."
   ]
  },
  {
   "cell_type": "markdown",
   "metadata": {},
   "source": [
    "## Loading the dataset \n",
    "<br>\n",
    "<font size=\"3\"> <font>\n",
    "\n",
    "- how to load\n"
   ]
  },
  {
   "cell_type": "code",
   "execution_count": 2,
   "metadata": {},
   "outputs": [
    {
     "data": {
      "text/html": [
       "<div>\n",
       "<style scoped>\n",
       "    .dataframe tbody tr th:only-of-type {\n",
       "        vertical-align: middle;\n",
       "    }\n",
       "\n",
       "    .dataframe tbody tr th {\n",
       "        vertical-align: top;\n",
       "    }\n",
       "\n",
       "    .dataframe thead th {\n",
       "        text-align: right;\n",
       "    }\n",
       "</style>\n",
       "<table border=\"1\" class=\"dataframe\">\n",
       "  <thead>\n",
       "    <tr style=\"text-align: right;\">\n",
       "      <th></th>\n",
       "      <th>type</th>\n",
       "      <th>519.08</th>\n",
       "      <th>519.16</th>\n",
       "      <th>519.25</th>\n",
       "      <th>519.33</th>\n",
       "      <th>519.41</th>\n",
       "      <th>519.5</th>\n",
       "      <th>519.58</th>\n",
       "      <th>519.66</th>\n",
       "      <th>519.74</th>\n",
       "      <th>...</th>\n",
       "      <th>4958.85</th>\n",
       "      <th>4959.1</th>\n",
       "      <th>4959.34</th>\n",
       "      <th>4959.58</th>\n",
       "      <th>4959.82</th>\n",
       "      <th>4960.07</th>\n",
       "      <th>4960.31</th>\n",
       "      <th>4960.55</th>\n",
       "      <th>4960.8</th>\n",
       "      <th>4961.04</th>\n",
       "    </tr>\n",
       "  </thead>\n",
       "  <tbody>\n",
       "    <tr>\n",
       "      <td>0</td>\n",
       "      <td>AD</td>\n",
       "      <td>0.000057</td>\n",
       "      <td>0.000061</td>\n",
       "      <td>0.000022</td>\n",
       "      <td>0.000016</td>\n",
       "      <td>0.000020</td>\n",
       "      <td>0.000006</td>\n",
       "      <td>0.000007</td>\n",
       "      <td>0.000000</td>\n",
       "      <td>0.000056</td>\n",
       "      <td>...</td>\n",
       "      <td>0.000016</td>\n",
       "      <td>0.000009</td>\n",
       "      <td>0.000004</td>\n",
       "      <td>0.000005</td>\n",
       "      <td>0.000005</td>\n",
       "      <td>0.000011</td>\n",
       "      <td>0.000020</td>\n",
       "      <td>2.617661e-05</td>\n",
       "      <td>0.000027</td>\n",
       "      <td>0.000013</td>\n",
       "    </tr>\n",
       "    <tr>\n",
       "      <td>1</td>\n",
       "      <td>AD</td>\n",
       "      <td>0.000079</td>\n",
       "      <td>0.000073</td>\n",
       "      <td>0.000047</td>\n",
       "      <td>0.000019</td>\n",
       "      <td>0.000011</td>\n",
       "      <td>0.000024</td>\n",
       "      <td>0.000020</td>\n",
       "      <td>0.000024</td>\n",
       "      <td>0.000021</td>\n",
       "      <td>...</td>\n",
       "      <td>0.000019</td>\n",
       "      <td>0.000003</td>\n",
       "      <td>0.000016</td>\n",
       "      <td>0.000007</td>\n",
       "      <td>0.000019</td>\n",
       "      <td>0.000031</td>\n",
       "      <td>0.000006</td>\n",
       "      <td>1.539961e-05</td>\n",
       "      <td>0.000003</td>\n",
       "      <td>0.000007</td>\n",
       "    </tr>\n",
       "    <tr>\n",
       "      <td>2</td>\n",
       "      <td>SQ</td>\n",
       "      <td>0.000084</td>\n",
       "      <td>0.000084</td>\n",
       "      <td>0.000047</td>\n",
       "      <td>0.000029</td>\n",
       "      <td>0.000042</td>\n",
       "      <td>0.000025</td>\n",
       "      <td>0.000045</td>\n",
       "      <td>0.000000</td>\n",
       "      <td>0.000000</td>\n",
       "      <td>...</td>\n",
       "      <td>0.000018</td>\n",
       "      <td>0.000026</td>\n",
       "      <td>0.000011</td>\n",
       "      <td>0.000022</td>\n",
       "      <td>0.000022</td>\n",
       "      <td>0.000005</td>\n",
       "      <td>0.000003</td>\n",
       "      <td>7.241437e-06</td>\n",
       "      <td>0.000022</td>\n",
       "      <td>0.000009</td>\n",
       "    </tr>\n",
       "    <tr>\n",
       "      <td>3</td>\n",
       "      <td>AD</td>\n",
       "      <td>0.000033</td>\n",
       "      <td>0.000108</td>\n",
       "      <td>0.000282</td>\n",
       "      <td>0.000117</td>\n",
       "      <td>0.000124</td>\n",
       "      <td>0.000061</td>\n",
       "      <td>0.000025</td>\n",
       "      <td>0.000013</td>\n",
       "      <td>0.000000</td>\n",
       "      <td>...</td>\n",
       "      <td>0.000035</td>\n",
       "      <td>0.000025</td>\n",
       "      <td>0.000011</td>\n",
       "      <td>0.000014</td>\n",
       "      <td>0.000016</td>\n",
       "      <td>0.000019</td>\n",
       "      <td>0.000010</td>\n",
       "      <td>7.514679e-07</td>\n",
       "      <td>0.000018</td>\n",
       "      <td>0.000032</td>\n",
       "    </tr>\n",
       "    <tr>\n",
       "      <td>4</td>\n",
       "      <td>SQ</td>\n",
       "      <td>0.000218</td>\n",
       "      <td>0.000126</td>\n",
       "      <td>0.000035</td>\n",
       "      <td>0.000076</td>\n",
       "      <td>0.000018</td>\n",
       "      <td>0.000021</td>\n",
       "      <td>0.000012</td>\n",
       "      <td>0.000017</td>\n",
       "      <td>0.000000</td>\n",
       "      <td>...</td>\n",
       "      <td>0.000005</td>\n",
       "      <td>0.000004</td>\n",
       "      <td>0.000022</td>\n",
       "      <td>0.000021</td>\n",
       "      <td>0.000012</td>\n",
       "      <td>0.000002</td>\n",
       "      <td>0.000008</td>\n",
       "      <td>1.318835e-05</td>\n",
       "      <td>0.000017</td>\n",
       "      <td>0.000014</td>\n",
       "    </tr>\n",
       "  </tbody>\n",
       "</table>\n",
       "<p>5 rows × 27287 columns</p>\n",
       "</div>"
      ],
      "text/plain": [
       "  type    519.08    519.16    519.25    519.33    519.41     519.5    519.58  \\\n",
       "0   AD  0.000057  0.000061  0.000022  0.000016  0.000020  0.000006  0.000007   \n",
       "1   AD  0.000079  0.000073  0.000047  0.000019  0.000011  0.000024  0.000020   \n",
       "2   SQ  0.000084  0.000084  0.000047  0.000029  0.000042  0.000025  0.000045   \n",
       "3   AD  0.000033  0.000108  0.000282  0.000117  0.000124  0.000061  0.000025   \n",
       "4   SQ  0.000218  0.000126  0.000035  0.000076  0.000018  0.000021  0.000012   \n",
       "\n",
       "     519.66    519.74  ...   4958.85    4959.1   4959.34   4959.58   4959.82  \\\n",
       "0  0.000000  0.000056  ...  0.000016  0.000009  0.000004  0.000005  0.000005   \n",
       "1  0.000024  0.000021  ...  0.000019  0.000003  0.000016  0.000007  0.000019   \n",
       "2  0.000000  0.000000  ...  0.000018  0.000026  0.000011  0.000022  0.000022   \n",
       "3  0.000013  0.000000  ...  0.000035  0.000025  0.000011  0.000014  0.000016   \n",
       "4  0.000017  0.000000  ...  0.000005  0.000004  0.000022  0.000021  0.000012   \n",
       "\n",
       "    4960.07   4960.31       4960.55    4960.8   4961.04  \n",
       "0  0.000011  0.000020  2.617661e-05  0.000027  0.000013  \n",
       "1  0.000031  0.000006  1.539961e-05  0.000003  0.000007  \n",
       "2  0.000005  0.000003  7.241437e-06  0.000022  0.000009  \n",
       "3  0.000019  0.000010  7.514679e-07  0.000018  0.000032  \n",
       "4  0.000002  0.000008  1.318835e-05  0.000017  0.000014  \n",
       "\n",
       "[5 rows x 27287 columns]"
      ]
     },
     "execution_count": 2,
     "metadata": {},
     "output_type": "execute_result"
    }
   ],
   "source": [
    "import pandas as pd\n",
    "import numpy as np\n",
    "\n",
    "ADSQ_df = pd.read_pickle('data/ADSQ_df.pkl')\n",
    "ADSQ_df.head(5)"
   ]
  },
  {
   "cell_type": "markdown",
   "metadata": {},
   "source": [
    "## Visualize spectrum\n"
   ]
  },
  {
   "cell_type": "code",
   "execution_count": 3,
   "metadata": {},
   "outputs": [
    {
     "data": {
      "text/plain": [
       "<matplotlib.legend.Legend at 0x1670f89ad30>"
      ]
     },
     "execution_count": 3,
     "metadata": {},
     "output_type": "execute_result"
    },
    {
     "data": {
      "image/png": "[encoded data removed]",
      "text/plain": [
       "<Figure size 432x288 with 1 Axes>"
      ]
     },
     "metadata": {
      "needs_background": "light"
     },
     "output_type": "display_data"
    }
   ],
   "source": [
    "#visualize average spectrum\n",
    "import matplotlib.pyplot as plt\n",
    "\n",
    "plt.plot(ADSQ_df.columns[1:],ADSQ_df[ADSQ_df['type']=='AD'].mean(0),label='AD') # replace second argument to be feature importance\n",
    "plt.plot(ADSQ_df.columns[1:],ADSQ_df[ADSQ_df['type']=='SQ'].mean(0),label='SQ')\n",
    "plt.legend()"
   ]
  },
  {
   "cell_type": "markdown",
   "metadata": {},
   "source": [
    "## Split the dataset into training and test set "
   ]
  },
  {
   "cell_type": "code",
   "execution_count": 3,
   "metadata": {
    "code_folding": []
   },
   "outputs": [],
   "source": [
    "#split the dataset into training and test set\n",
    "\n",
    "from sklearn.model_selection import train_test_split\n",
    "from sklearn.metrics import classification_report, confusion_matrix \n",
    "\n",
    "X_train, X_test, y_train, y_test = train_test_split(ADSQ_df.drop('type',1).values, \n",
    "                                                    ADSQ_df['type'], test_size=0.3,\n",
    "                                                    random_state=19)\n",
    "# Change y_test to take on binary values 0 and 1 for the purposes of printing ROC curve\n",
    "new_y_test = y_test.copy()\n",
    "binary = new_y_test.replace({'AD' : 0, 'SQ' : 1})"
   ]
  },
  {
   "cell_type": "markdown",
   "metadata": {},
   "source": [
    "## Linear Discriminant Analysis (LDA)\n",
    "<br>\n",
    "<font size=\"3\"> <font>\n",
    "\n",
    "   Train a simple linear discriminant model for the classification task and evaluate the model performance on the test set."
   ]
  },
  {
   "cell_type": "code",
   "execution_count": 7,
   "metadata": {},
   "outputs": [
    {
     "name": "stderr",
     "output_type": "stream",
     "text": [
      "/opt/anaconda3/lib/python3.7/site-packages/sklearn/discriminant_analysis.py:388: UserWarning: Variables are collinear.\n",
      "  warnings.warn(\"Variables are collinear.\")\n"
     ]
    }
   ],
   "source": [
    "from sklearn.discriminant_analysis import LinearDiscriminantAnalysis\n",
    "\n",
    "lda = LinearDiscriminantAnalysis(solver='svd',n_components=1)\n",
    "lda.fit(X_train,y_train)\n",
    "y_pred_lda = lda.predict(X_test)\n",
    "report_dict_lda = classification_report(y_test, y_pred_lda, output_dict=True)\n",
    "conf_mtx_lda = confusion_matrix(y_test, y_pred_lda)"
   ]
  },
  {
   "cell_type": "markdown",
   "metadata": {},
   "source": [
    " <font size=\"3\"> <font>\n",
    "\n",
    " Print the model performance on the test set and plot the confusion matrix\n"
   ]
  },
  {
   "cell_type": "code",
   "execution_count": 116,
   "metadata": {
    "code_folding": [
     2
    ]
   },
   "outputs": [
    {
     "name": "stdout",
     "output_type": "stream",
     "text": [
      "[[743  62]\n",
      " [162 435]]\n",
      "Model achieved accuracy: 0.84, recall: 0.84, f1: 0.838 on the test set \n"
     ]
    },
    {
     "data": {
      "image/png": "[encoded data removed]",
      "text/plain": [
       "<Figure size 432x288 with 2 Axes>"
      ]
     },
     "metadata": {
      "needs_background": "light"
     },
     "output_type": "display_data"
    }
   ],
   "source": [
    "import seaborn as sns\n",
    "print(conf_mtx_lda)\n",
    "print('Model achieved accuracy: {}, recall: {}, f1: {} on the test set '\n",
    "      .format(round(report_dict_lda['accuracy'],3),\n",
    "              round(report_dict_lda['weighted avg']['recall'],3),\n",
    "              round(report_dict_lda['weighted avg']['f1-score'],3)))\n",
    "ax= plt.subplot()\n",
    "sns.heatmap(conf_mtx_lda, ax = ax, fmt='d', cmap='Blues');\n",
    "\n",
    "ax.set_xlabel('Predicted labels');ax.set_ylabel('True labels'); \n",
    "ax.set_title('LDA Confusion Matrix'); \n",
    "ax.xaxis.set_ticklabels(['AD', 'SQ']); ax.yaxis.set_ticklabels(['AD', 'SQ']);"
   ]
  },
  {
   "cell_type": "markdown",
   "metadata": {},
   "source": [
    "<font size=\"3\"> <font>\n",
    "    __Note:__ The model performance on the test set is decent for a simple linear model, considering the complicated nature of the data e.g. noise and high-dimensionality. There's definitely room for improvement by training models with higher complexity.\n",
    " "
   ]
  },
  {
   "cell_type": "code",
   "execution_count": 113,
   "metadata": {},
   "outputs": [
    {
     "data": {
      "image/png": "[encoded data removed]",
      "text/plain": [
       "<Figure size 432x288 with 1 Axes>"
      ]
     },
     "metadata": {
      "needs_background": "light"
     },
     "output_type": "display_data"
    }
   ],
   "source": [
    "scores = lda.predict_proba(X_test)[:,1]\n",
    "binary = new_y_test.replace({'AD' : 0, 'SQ' : 1})\n",
    "fpr, tpr, threshold = metrics.roc_curve(binary, scores)\n",
    "roc_auc = metrics.auc(fpr, tpr)\n",
    "plt.title('LDA ROC curve')\n",
    "plt.plot(fpr, tpr, 'b', label = 'AUC = %0.2f' % roc_auc)\n",
    "plt.legend(loc = 'lower right')\n",
    "plt.plot([0, 1], [0, 1],'r--')\n",
    "plt.ylabel('True Positive Rate')\n",
    "plt.xlabel('False Positive Rate')\n",
    "plt.show()"
   ]
  },
  {
   "cell_type": "markdown",
   "metadata": {},
   "source": [
    "## Gradient boosting tree\n"
   ]
  },
  {
   "cell_type": "code",
   "execution_count": 4,
   "metadata": {},
   "outputs": [],
   "source": [
    "# Gradient boosting tree\n",
    "import xgboost\n",
    "xgb = xgboost.XGBClassifier(learning_rate=0.1, n_estimators=600, objective='binary:logistic',subsample=1,\n",
    "                            reg_alpha=0,min_child_weight=5,max_depth=4,gamma=0,colsample_bytree=1,nthread = 8)\n",
    "xgb.fit(X_train,y_train)\n",
    "y_pred_xgb = xgb.predict(X_test)\n",
    "\n",
    "\n",
    "prob_xgb = xgb.predict_proba(X_test)\n",
    "report_dict_xgb = classification_report(y_test, y_pred_xgb, output_dict=True)\n",
    "conf_mtx_xgb = confusion_matrix(y_test, y_pred_xgb)"
   ]
  },
  {
   "cell_type": "code",
   "execution_count": 5,
   "metadata": {},
   "outputs": [
    {
     "name": "stdout",
     "output_type": "stream",
     "text": [
      "[[770  35]\n",
      " [ 89 508]]\n",
      "Model achieved accuracy: 0.912, recall: 0.912, f1: 0.911 on the test set \n"
     ]
    }
   ],
   "source": [
    "import seaborn as sns\n",
    "import matplotlib.pyplot as plt\n",
    "\n",
    "print(conf_mtx_xgb)\n",
    "print('Model achieved accuracy: {}, recall: {}, f1: {} on the test set '.format(round(report_dict_xgb['accuracy'],3),\n",
    "                                                                               round(report_dict_xgb['weighted avg']['recall'],3),\n",
    "                                                                              round(report_dict_xgb['weighted avg']['f1-score'],3)))\n",
    "\n",
    "# Now visualize the confusion matrix\n",
    "ax = plt.subplot()\n",
    "sns.heatmap(conf_mtx_xgb, ax = ax, fmt='d', cmap='Blues');\n",
    "ax.set_xlabel('Predicted labels');ax.set_ylabel('True labels'); \n",
    "ax.set_title('GB Confusion Matrix'); \n",
    "ax.xaxis.set_ticklabels(['AD', 'SQ']); ax.yaxis.set_ticklabels(['AD', 'SQ']);\n",
    "\n",
    "# https://machinelearningmastery.com/save-load-machine-learning-models-python-scikit-learn/"
   ]
  },
  {
   "cell_type": "code",
   "execution_count": 11,
   "metadata": {},
   "outputs": [],
   "source": [
    "# implement dense layers"
   ]
  },
  {
   "cell_type": "code",
   "execution_count": 112,
   "metadata": {},
   "outputs": [
    {
     "data": {
      "image/png": "[encoded data removed]",
      "text/plain": [
       "<Figure size 432x288 with 1 Axes>"
      ]
     },
     "metadata": {
      "needs_background": "light"
     },
     "output_type": "display_data"
    }
   ],
   "source": [
    "# ROC curve\n",
    "scores = prob_xgb[:,1]\n",
    "fpr, tpr, threshold = metrics.roc_curve(binary, scores)\n",
    "roc_auc = metrics.auc(fpr, tpr)\n",
    "plt.title('GB ROC curve')\n",
    "plt.plot(fpr, tpr, 'b', label = 'AUC = %0.2f' % roc_auc)\n",
    "plt.legend(loc = 'lower right')\n",
    "plt.plot([0, 1], [0, 1],'r--')\n",
    "plt.ylabel('True Positive Rate')\n",
    "plt.xlabel('False Positive Rate')\n",
    "plt.show()"
   ]
  },
  {
   "cell_type": "markdown",
   "metadata": {},
   "source": [
    "## Random Forest"
   ]
  },
  {
   "cell_type": "code",
   "execution_count": 6,
   "metadata": {},
   "outputs": [],
   "source": [
    "from sklearn.ensemble import RandomForestClassifier\n",
    "\n",
    "rf_model = RandomForestClassifier(n_estimators=100,\n",
    "                                  bootstrap = True,\n",
    "                                  max_features = 'sqrt')\n",
    "rf_model.fit(X_train, y_train)\n",
    "rf_predictions = rf_model.predict(X_test)\n",
    "rf_probs = rf_model.predict_proba(X_test)[:,1]\n",
    "report_dict_rf = classification_report(y_test, rf_predictions, output_dict=True)\n",
    "conf_mtx_rf = confusion_matrix(y_test, rf_predictions)"
   ]
  },
  {
   "cell_type": "code",
   "execution_count": 7,
   "metadata": {},
   "outputs": [
    {
     "name": "stdout",
     "output_type": "stream",
     "text": [
      "[[784  21]\n",
      " [254 343]]\n",
      "Model achieved accuracy: 0.804, recall: 0.804, f1: 0.792 on the test set \n"
     ]
    },
    {
     "data": {
      "image/png": "[encoded data removed]",
      "text/plain": [
       "<Figure size 432x288 with 2 Axes>"
      ]
     },
     "metadata": {
      "needs_background": "light"
     },
     "output_type": "display_data"
    }
   ],
   "source": [
    "import seaborn as sns\n",
    "import matplotlib.pyplot as plt\n",
    "from sklearn.metrics import roc_auc_score\n",
    "\n",
    "# Calculate roc auc\n",
    "print(conf_mtx_rf)\n",
    "\n",
    "print('Model achieved accuracy: {}, recall: {}, f1: {} on the test set '.format(round(report_dict_rf['accuracy'],3),\n",
    "                                                                               round(report_dict_rf['weighted avg']['recall'],3),\n",
    "                                                                              round(report_dict_rf['weighted avg']['f1-score'],3)))\n",
    "\n",
    "# Now visualize the confusion matrix\n",
    "ax = plt.subplot()\n",
    "sns.heatmap(conf_mtx_rf, ax=ax, fmt='g', cmap='Blues');\n",
    "ax.set_xlabel('Predicted labels');ax.set_ylabel('True labels'); \n",
    "ax.set_title('Random Forest Confusion Matrix'); \n",
    "ax.xaxis.set_ticklabels(['AD', 'SQ']); ax.yaxis.set_ticklabels(['AD', 'SQ']);\n",
    "plt.show()\n"
   ]
  },
  {
   "cell_type": "code",
   "execution_count": 111,
   "metadata": {},
   "outputs": [
    {
     "data": {
      "image/png": "[encoded data removed]",
      "text/plain": [
       "<Figure size 432x288 with 1 Axes>"
      ]
     },
     "metadata": {
      "needs_background": "light"
     },
     "output_type": "display_data"
    }
   ],
   "source": [
    "import sklearn.metrics as metrics\n",
    "fpr, tpr, threshold = metrics.roc_curve(binary, rf_probs)\n",
    "roc_auc = metrics.auc(fpr, tpr)\n",
    "plt.title('RF ROC curve')\n",
    "plt.plot(fpr, tpr, 'b', label = 'AUC = %0.2f' % roc_auc)\n",
    "plt.legend(loc = 'lower right')\n",
    "plt.plot([0, 1], [0, 1],'r--')\n",
    "plt.ylabel('True Positive Rate')\n",
    "plt.xlabel('False Positive Rate')\n",
    "plt.show()"
   ]
  },
  {
   "cell_type": "markdown",
   "metadata": {},
   "source": [
    "## Model evaluation"
   ]
  },
  {
   "cell_type": "markdown",
   "metadata": {},
   "source": [
    "## Model interpretations"
   ]
  },
  {
   "cell_type": "code",
   "execution_count": 8,
   "metadata": {},
   "outputs": [
    {
     "data": {
      "text/plain": [
       "<matplotlib.legend.Legend at 0x12ef14710>"
      ]
     },
     "execution_count": 8,
     "metadata": {},
     "output_type": "execute_result"
    },
    {
     "data": {
      "image/png": "[encoded data removed]",
      "text/plain": [
       "<Figure size 432x288 with 1 Axes>"
      ]
     },
     "metadata": {
      "needs_background": "light"
     },
     "output_type": "display_data"
    }
   ],
   "source": [
    "#plt.plot(ADSQ_df.columns[1:], lda.coef_[0,:], label='LDA') # replace second argument to be feature importance\n",
    "plt.plot(ADSQ_df.columns[1:], xgb.feature_importances_, label='GB')\n",
    "plt.legend()"
   ]
  },
  {
   "cell_type": "code",
   "execution_count": 9,
   "metadata": {},
   "outputs": [
    {
     "data": {
      "text/plain": [
       "<matplotlib.legend.Legend at 0x117cdd250>"
      ]
     },
     "execution_count": 9,
     "metadata": {},
     "output_type": "execute_result"
    },
    {
     "data": {
      "image/png": "[encoded data removed]",
      "text/plain": [
       "<Figure size 432x288 with 1 Axes>"
      ]
     },
     "metadata": {
      "needs_background": "light"
     },
     "output_type": "display_data"
    }
   ],
   "source": [
    "plt.plot(ADSQ_df.columns[1:], rf_model.feature_importances_, label='RF')\n",
    "plt.legend()"
   ]
  },
  {
   "cell_type": "markdown",
   "metadata": {},
   "source": [
    "# Support Vector Machine"
   ]
  },
  {
   "cell_type": "code",
   "execution_count": null,
   "metadata": {},
   "outputs": [],
   "source": [
    "# https://stackabuse.com/implementing-svm-and-kernel-svm-with-pythons-scikit-learn/\n",
    "# import support vector classifier \n",
    "from sklearn.svm import SVC\n",
    "from sklearn.metrics import classification_report, confusion_matrix\n",
    "\n",
    "# Train the svm model\n",
    "svm_model = SVC(kernel='rbf', C=0.000001)\n",
    "svm_model.fit(X_train, y_train)\n",
    "\n",
    "# Now use model to predict and evaluate the accuracy\n",
    "y_pred_svm = svm_model.predict(X_test)\n",
    "report_dict_svm = classification_report(y_test, y_pred_svm)\n",
    "conf_mtx_svm = confusion_matrix(y_test, y_pred_svm)"
   ]
  },
  {
   "cell_type": "code",
   "execution_count": null,
   "metadata": {},
   "outputs": [],
   "source": [
    "import seaborn as sns\n",
    "import matplotlib.pyplot as plt\n",
    "\n",
    "print(conf_mtx_svm)\n",
    "print(report_dict_svm)\n",
    "\n",
    "# Now visualize the confusion matrix\n",
    "ax = plt.subplot()\n",
    "sns.heatmap(conf_mtx_svm, annot=True, ax = ax, fmt='d');\n",
    "ax.set_xlabel('Predicted labels');ax.set_ylabel('True labels'); \n",
    "ax.set_title('Confusion Matrix'); \n",
    "ax.xaxis.set_ticklabels(['AD', 'SQ']); ax.yaxis.set_ticklabels(['AD', 'SQ']);"
   ]
  }
 ],
 "metadata": {
  "kernelspec": {
   "display_name": "Python 3",
   "language": "python",
   "name": "python3"
  },
  "language_info": {
   "codemirror_mode": {
    "name": "ipython",
    "version": 3
   },
   "file_extension": ".py",
   "mimetype": "text/x-python",
   "name": "python",
   "nbconvert_exporter": "python",
   "pygments_lexer": "ipython3",
   "version": "3.7.4"
  },
  "toc": {
   "base_numbering": 1,
   "nav_menu": {},
   "number_sections": true,
   "sideBar": true,
   "skip_h1_title": false,
   "title_cell": "Table of Contents",
   "title_sidebar": "Contents",
   "toc_cell": true,
   "toc_position": {},
   "toc_section_display": true,
   "toc_window_display": false
  }
 },
 "nbformat": 4,
 "nbformat_minor": 2
}
